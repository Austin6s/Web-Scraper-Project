{
 "cells": [
  {
   "cell_type": "code",
   "execution_count": 88,
   "id": "6c4c5d07",
   "metadata": {},
   "outputs": [],
   "source": [
    "#import libraries\n",
    "from bs4 import BeautifulSoup\n",
    "import requests\n",
    "import smtplib\n",
    "import time\n",
    "import datetime\n",
    "import csv\n",
    "import pandas as pd"
   ]
  },
  {
   "cell_type": "code",
   "execution_count": 89,
   "id": "90596c61",
   "metadata": {
    "scrolled": true
   },
   "outputs": [
    {
     "name": "stdout",
     "output_type": "stream",
     "text": [
      "Pro Kit\n",
      "\n",
      "\t\t\t\t\n",
      "$109.00 USD \n",
      "\t\t\t\t\n",
      "\t\t\t\n",
      "4.9 out of 5 stars\n"
     ]
    }
   ],
   "source": [
    "#Connect to website\n",
    "\n",
    "URL = 'https://spikeball.com/collections/best-sellers/products/spikeball-pro-set'\n",
    "\n",
    "headers = {\"User-Agent\": \"Mozilla/5.0 (Windows NT 10.0; Win64; x64) AppleWebKit/537.36 (KHTML, like Gecko) Chrome/93.0.4577.82 Safari/537.36\"}\n",
    "\n",
    "page = requests.get(URL, headers=headers)\n",
    "\n",
    "soup = BeautifulSoup(page.content, \"html.parser\")\n",
    "\n",
    "#Collect the data that we want\n",
    "\n",
    "title = soup.find('h1', class_='product-info-title').get_text()\n",
    "\n",
    "price = soup.find('p', class_='price').get_text()\n",
    "\n",
    "rating = soup.find('span', class_=\"stamped-summary-text-1\").get_text()\n",
    "\n",
    "\n",
    "print(title)\n",
    "print(price)\n",
    "print(rating + ' out of 5 stars')"
   ]
  },
  {
   "cell_type": "code",
   "execution_count": 90,
   "id": "0a453116",
   "metadata": {},
   "outputs": [
    {
     "name": "stdout",
     "output_type": "stream",
     "text": [
      "Pro Kit\n",
      "109.0\n"
     ]
    }
   ],
   "source": [
    "#Clean up data points for easier use later\n",
    "\n",
    "title0 = title.strip()\n",
    "price0 = float(price.strip()[1:-4])\n",
    "\n",
    "print(title0)\n",
    "print(price0)"
   ]
  },
  {
   "cell_type": "code",
   "execution_count": 91,
   "id": "d0b04eae",
   "metadata": {},
   "outputs": [
    {
     "name": "stdout",
     "output_type": "stream",
     "text": [
      "2021-09-15\n"
     ]
    }
   ],
   "source": [
    "#Take a timestamp to know when we last collected this data\n",
    "today = datetime.date.today()\n",
    "print(today)"
   ]
  },
  {
   "cell_type": "code",
   "execution_count": 92,
   "id": "08f397ab",
   "metadata": {},
   "outputs": [],
   "source": [
    "#Create and write to a csv file\n",
    "\n",
    "header = ['Date', 'Title', 'Price', 'Rating']\n",
    "data = [today, title0, price0, rating]\n",
    "\n",
    "with open('AmazonWebScraperDataset.csv', 'w', newline='', encoding='UTF8') as f:\n",
    "    writer = csv.writer(f)\n",
    "    writer.writerow(header)\n",
    "    writer.writerow(data)"
   ]
  },
  {
   "cell_type": "code",
   "execution_count": 93,
   "id": "4dcb82d9",
   "metadata": {},
   "outputs": [
    {
     "name": "stdout",
     "output_type": "stream",
     "text": [
      "         Date    Title  Price  Rating\n",
      "0  2021-09-15  Pro Kit  109.0     4.9\n"
     ]
    }
   ],
   "source": [
    "#Import csv into pandas dataframe to read here without having to open the csv file\n",
    "df = pd.read_csv('AmazonWebScraperDataset.csv')\n",
    "print(df)"
   ]
  },
  {
   "cell_type": "code",
   "execution_count": 94,
   "id": "7dc9455b",
   "metadata": {},
   "outputs": [],
   "source": [
    "#Combine all of the above code into one function that appends the csv by adding a new row\n",
    "\n",
    "def check_price():\n",
    "    URL = 'https://spikeball.com/collections/best-sellers/products/spikeball-pro-set'\n",
    "\n",
    "    headers = {\"User-Agent\": \"Mozilla/5.0 (Windows NT 10.0; Win64; x64) AppleWebKit/537.36 (KHTML, like Gecko) Chrome/93.0.4577.82 Safari/537.36\"}\n",
    "\n",
    "    page = requests.get(URL, headers=headers)\n",
    "\n",
    "    soup = BeautifulSoup(page.content, \"html.parser\")\n",
    "\n",
    "#Collect the data that we want\n",
    "    title = soup.find('h1', class_='product-info-title').get_text()\n",
    "\n",
    "    price = soup.find('p', class_='price').get_text()\n",
    "\n",
    "    rating = soup.find('span', class_=\"stamped-summary-text-1\").get_text()\n",
    "\n",
    "#Clean up data points for easier use later\n",
    "    title0 = title.strip()\n",
    "    price0 = float(price.strip()[1:-4])\n",
    "\n",
    "#Take a timestamp to know when we last collected this data\n",
    "    today = datetime.date.today()\n",
    "\n",
    "#Write to a csv file\n",
    "    header = ['Title', 'Price', 'Rating', 'Date']\n",
    "    data = [title0, price0, rating, today]\n",
    "\n",
    "#Now we are appending data to the csv\n",
    "    with open('AmazonWebScraperDataset.csv', 'a+', newline='', encoding='UTF8') as f:\n",
    "        writer = csv.writer(f)\n",
    "        writer.writerow(data)\n",
    "        \n",
    "#Sends me an email if the price drops below $100    \n",
    "    if price0 < 100:\n",
    "        send_email()"
   ]
  },
  {
   "cell_type": "code",
   "execution_count": null,
   "id": "372b4387",
   "metadata": {},
   "outputs": [],
   "source": [
    "#Runs check_price after a set time and inputs data into the CSV (let's say once a day in this example)\n",
    "\n",
    "while(True):\n",
    "    check_price()\n",
    "#In seconds, there are 86,400 seconds in a day\n",
    "    time.sleep(86400)"
   ]
  },
  {
   "cell_type": "code",
   "execution_count": null,
   "id": "6b28088d",
   "metadata": {},
   "outputs": [],
   "source": [
    "#Import csv into pandas dataframe to once again display the data without having to open the CSV\n",
    "df = pd.read_csv('AmazonWebScraperDataset.csv')\n",
    "print(df)"
   ]
  },
  {
   "cell_type": "code",
   "execution_count": null,
   "id": "1848030f",
   "metadata": {},
   "outputs": [],
   "source": [
    "#Utilizes the smtplib package to send an email to myself (just for fun) when a price hits below a certain level\n",
    "\n",
    "def send_email():\n",
    "    server = smtplib.SMTP_SSL('smtp.gmail.com',465)\n",
    "    server.ehlo()\n",
    "    #server.starttls()\n",
    "    server.ehlo()\n",
    "    server.login('email@gmail.com', 'email_password')\n",
    "    \n",
    "    subject = \"The Spikeball Pro Kit is below $100! Now is your chance to buy!\"\n",
    "    body = \"(Insert person name), this is the moment you have been waiting for. Click this link here to buy now: https://spikeball.com/collections/best-sellers/products/spikeball-pro-set\"\n",
    "   \n",
    "    msg = \"Subject: {}\\n\\n{}\".format(subject, body)\n",
    "    print(msg)\n",
    "    \n",
    "    server.sendmail('email@gmail.com', 'emailyouwanttosendto@gmail.com', msg)"
   ]
  }
 ],
 "metadata": {
  "kernelspec": {
   "display_name": "Python 3",
   "language": "python",
   "name": "python3"
  },
  "language_info": {
   "codemirror_mode": {
    "name": "ipython",
    "version": 3
   },
   "file_extension": ".py",
   "mimetype": "text/x-python",
   "name": "python",
   "nbconvert_exporter": "python",
   "pygments_lexer": "ipython3",
   "version": "3.8.5"
  }
 },
 "nbformat": 4,
 "nbformat_minor": 5
}
